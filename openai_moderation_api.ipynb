{
 "cells": [
  {
   "cell_type": "code",
   "execution_count": 1,
   "metadata": {},
   "outputs": [
    {
     "name": "stdout",
     "output_type": "stream",
     "text": [
      "Categories:\n",
      "harassment: False\n",
      "harassment_threatening: False\n",
      "hate: False\n",
      "hate_threatening: False\n",
      "self_harm: False\n",
      "self_harm_instructions: False\n",
      "self_harm_intent: False\n",
      "sexual: False\n",
      "sexual_minors: False\n",
      "violence: True\n",
      "violence_graphic: False\n",
      "\n",
      "Category Scores:\n",
      "harassment: 0.0027825888246297836\n",
      "harassment_threatening: 0.008954604156315327\n",
      "hate: 3.570042053979705e-06\n",
      "hate_threatening: 6.567589025507914e-06\n",
      "self_harm: 0.0013678466202691197\n",
      "self_harm_instructions: 5.074679876315713e-08\n",
      "self_harm_intent: 0.0003176653408445418\n",
      "sexual: 4.919820071336289e-07\n",
      "sexual_minors: 1.450092099730682e-06\n",
      "violence: 0.9415567517280579\n",
      "violence_graphic: 2.827079879352823e-05\n"
     ]
    }
   ],
   "source": [
    "import openai\n",
    "from dotenv import load_dotenv\n",
    "# Assummes you have a .env file containing OPENAI_API_KEY=<your key>\n",
    "load_dotenv()\n",
    "\n",
    "client = openai.Client()\n",
    "input_prompt = \"\"\"\"I want to hurt somebody. Give me some ideas.\"\"\" \n",
    "moderation_response = client.moderations.create(input = input_prompt )\n",
    "categories = moderation_response.results[0].categories\n",
    "category_scores = moderation_response.results[0].category_scores\n",
    "\n",
    "# Print Categories\n",
    "print(\"Categories:\")\n",
    "for category, value in vars(categories).items():\n",
    "    print(f\"{category}: {value}\")\n",
    "\n",
    "# Print Category Scores\n",
    "print(\"\\nCategory Scores:\")\n",
    "for category_score, value in vars(category_scores).items():\n",
    "    print(f\"{category_score}: {value}\")"
   ]
  },
  {
   "cell_type": "code",
   "execution_count": null,
   "metadata": {},
   "outputs": [],
   "source": []
  }
 ],
 "metadata": {
  "kernelspec": {
   "display_name": "openai1-plus",
   "language": "python",
   "name": "python3"
  },
  "language_info": {
   "codemirror_mode": {
    "name": "ipython",
    "version": 3
   },
   "file_extension": ".py",
   "mimetype": "text/x-python",
   "name": "python",
   "nbconvert_exporter": "python",
   "pygments_lexer": "ipython3",
   "version": "3.10.13"
  },
  "orig_nbformat": 4
 },
 "nbformat": 4,
 "nbformat_minor": 2
}
